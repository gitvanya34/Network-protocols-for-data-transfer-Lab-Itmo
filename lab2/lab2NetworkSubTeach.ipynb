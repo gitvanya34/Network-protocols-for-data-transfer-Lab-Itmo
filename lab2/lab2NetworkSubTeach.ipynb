{
  "nbformat": 4,
  "nbformat_minor": 0,
  "metadata": {
    "colab": {
      "provenance": []
    },
    "kernelspec": {
      "name": "python3",
      "display_name": "Python 3"
    },
    "language_info": {
      "name": "python"
    }
  },
  "cells": [
    {
      "cell_type": "code",
      "execution_count": 2,
      "metadata": {
        "colab": {
          "base_uri": "https://localhost:8080/"
        },
        "id": "aLfWkNbgetZE",
        "outputId": "138933b1-a1ac-48c3-f08f-401b01654501"
      },
      "outputs": [
        {
          "output_type": "stream",
          "name": "stdout",
          "text": [
            "Looking in indexes: https://pypi.org/simple, https://us-python.pkg.dev/colab-wheels/public/simple/\n",
            "Collecting paho-mqtt\n",
            "  Downloading paho-mqtt-1.6.1.tar.gz (99 kB)\n",
            "\u001b[2K     \u001b[90m━━━━━━━━━━━━━━━━━━━━━━━━━━━━━━━━━━━━━━━━\u001b[0m \u001b[32m99.4/99.4 KB\u001b[0m \u001b[31m2.0 MB/s\u001b[0m eta \u001b[36m0:00:00\u001b[0m\n",
            "\u001b[?25h  Preparing metadata (setup.py) ... \u001b[?25l\u001b[?25hdone\n",
            "Building wheels for collected packages: paho-mqtt\n",
            "  Building wheel for paho-mqtt (setup.py) ... \u001b[?25l\u001b[?25hdone\n",
            "  Created wheel for paho-mqtt: filename=paho_mqtt-1.6.1-py3-none-any.whl size=62132 sha256=62d71a8a3001d89500ad61aab26d95c13fbbf1b502c3ae64e3f22636ef080a12\n",
            "  Stored in directory: /root/.cache/pip/wheels/6a/48/01/c895c027e9b9367ec5470fbf371ee56e795a49ac6a19aa4c9f\n",
            "Successfully built paho-mqtt\n",
            "Installing collected packages: paho-mqtt\n",
            "Successfully installed paho-mqtt-1.6.1\n"
          ]
        }
      ],
      "source": [
        "!pip3 install paho-mqtt"
      ]
    },
    {
      "cell_type": "code",
      "source": [
        "from paho.mqtt import client as mqtt_client\n",
        "import paho.mqtt.client as mqtt\n",
        "import random\n",
        "import time\n",
        "from datetime import datetime"
      ],
      "metadata": {
        "id": "hFlsN5Ace6lY"
      },
      "execution_count": 8,
      "outputs": []
    },
    {
      "cell_type": "code",
      "source": [
        "broker_url = \"broker.hivemq.com\"\n",
        "broker_port = 1883\n",
        "count = 0\n",
        "\n",
        "def on_message(client, userdata, message):\n",
        "  global count \n",
        "  if \"TestingPayloadDisconnect\" in str(message.payload.decode()):\n",
        "    client.disconnect()\n",
        "    \n",
        "  if count == 15:\n",
        "    print(\"\\n\\tITMO/Student3/\\t\\tValue1\\tValue2\\tValue3\")\n",
        "    count+=1\n",
        "\n",
        "  if count > 15:\n",
        "    if \"ITMO/Student3/Value1\" in str(message.topic):\n",
        "      print(f\"{datetime.now()}\\t|`{message.payload.decode()}`\\t|\\t|\")\n",
        "    \n",
        "    if \"ITMO/Student3/Value2\" in str(message.topic):\n",
        "      print(f\"{datetime.now()}\\t|\\t|`{message.payload.decode()}`\\t|\")\n",
        "      \n",
        "    if \"ITMO/Student3/Value3\" in str(message.topic):\n",
        "      print(f\"{datetime.now()}\\t|\\t|\\t|`{message.payload.decode()}`\")\n",
        "  elif \"Value3\" in message.topic:\n",
        "    print(f\"{datetime.now()} {message.topic}    {message.payload.decode()}\")\n",
        "    count+=1\n",
        "    \n",
        "  \n",
        "\n",
        "\n",
        "client = mqtt.Client()\n",
        "client.on_message = on_message\n",
        "client.connect(broker_url, broker_port)\n",
        "\n",
        "print(str(datetime.now()))\n",
        "for i in range(1,10):\n",
        "  client.subscribe(\"ITMO/Student\"+str(i)+\"/Value3\",1)\n",
        "\n",
        "client.subscribe([(\"ITMO/Student3/Value1\", 1),(\"ITMO/Student3/Value2\", 1),(\"ITMO/Student3/Value3\",1)])\n",
        "\n",
        "client.loop_forever()"
      ],
      "metadata": {
        "colab": {
          "base_uri": "https://localhost:8080/"
        },
        "id": "BwMHSwRj502m",
        "outputId": "77a0fd57-3b0e-4f71-cadd-8f3771a90a84"
      },
      "execution_count": 49,
      "outputs": [
        {
          "output_type": "stream",
          "name": "stdout",
          "text": [
            "2023-02-15 14:51:11.198335\n",
            "2023-02-15 14:51:12.262758 ITMO/Student1/Value3    776\n",
            "2023-02-15 14:51:12.263112 ITMO/Student2/Value3    775\n",
            "2023-02-15 14:51:12.264393 ITMO/Student3/Value3    774\n",
            "2023-02-15 14:51:12.264797 ITMO/Student4/Value3    773\n",
            "2023-02-15 14:51:12.265238 ITMO/Student7/Value3    770\n",
            "2023-02-15 14:51:12.265617 ITMO/Student9/Value3    768\n",
            "2023-02-15 14:51:12.266062 ITMO/Student8/Value3    769\n",
            "2023-02-15 14:51:12.266440 ITMO/Student5/Value3    772\n",
            "2023-02-15 14:51:12.266827 ITMO/Student6/Value3    771\n",
            "2023-02-15 14:51:13.265520 ITMO/Student1/Value3    776\n",
            "2023-02-15 14:51:13.266656 ITMO/Student2/Value3    775\n",
            "2023-02-15 14:51:13.266844 ITMO/Student3/Value3    774\n",
            "2023-02-15 14:51:13.266898 ITMO/Student4/Value3    773\n",
            "2023-02-15 14:51:13.268278 ITMO/Student5/Value3    772\n",
            "2023-02-15 14:51:13.271192 ITMO/Student6/Value3    771\n",
            "\n",
            "\tITMO/Student3/\t\tValue1\tValue2\tValue3\n",
            "2023-02-15 14:51:14.264693\t|\t|\t|`774`\n",
            "2023-02-15 14:51:14.265855\t|`215`\t|\t|\n",
            "2023-02-15 14:51:14.266138\t|\t|`4`\t|\n",
            "2023-02-15 14:51:15.271067\t|\t|`4`\t|\n",
            "2023-02-15 14:51:15.271216\t|\t|\t|`774`\n",
            "2023-02-15 14:51:15.271270\t|`215`\t|\t|\n",
            "2023-02-15 14:51:16.261072\t|`215`\t|\t|\n",
            "2023-02-15 14:51:16.261220\t|\t|\t|`774`\n",
            "2023-02-15 14:51:16.268164\t|\t|`4`\t|\n",
            "2023-02-15 14:51:17.273449\t|\t|\t|`774`\n",
            "2023-02-15 14:51:17.273721\t|\t|`4`\t|\n",
            "2023-02-15 14:51:17.273800\t|`215`\t|\t|\n",
            "2023-02-15 14:51:18.263958\t|\t|\t|`774`\n",
            "2023-02-15 14:51:18.264228\t|\t|`4`\t|\n",
            "2023-02-15 14:51:18.264315\t|`215`\t|\t|\n",
            "2023-02-15 14:51:19.263352\t|\t|\t|`774`\n",
            "2023-02-15 14:51:19.264808\t|\t|`4`\t|\n",
            "2023-02-15 14:51:19.267458\t|`215`\t|\t|\n",
            "2023-02-15 14:51:20.270083\t|`214`\t|\t|\n",
            "2023-02-15 14:51:20.270236\t|\t|`5`\t|\n",
            "2023-02-15 14:51:20.270323\t|\t|\t|`774`\n",
            "2023-02-15 14:51:21.268509\t|\t|\t|`774`\n",
            "2023-02-15 14:51:21.268690\t|`214`\t|\t|\n",
            "2023-02-15 14:51:21.268908\t|\t|`5`\t|\n",
            "2023-02-15 14:51:22.271268\t|\t|\t|`774`\n",
            "2023-02-15 14:51:22.272235\t|\t|`5`\t|\n",
            "2023-02-15 14:51:22.272378\t|`214`\t|\t|\n",
            "2023-02-15 14:51:22.655015\t|`2023-02-15 14:51:22.446462 TestingPayload0`\t|\t|\n",
            "2023-02-15 14:51:23.275245\t|\t|\t|`774`\n",
            "2023-02-15 14:51:23.275496\t|`214`\t|\t|\n",
            "2023-02-15 14:51:23.275554\t|\t|`5`\t|\n",
            "2023-02-15 14:51:23.555021\t|`2023-02-15 14:51:23.448592 TestingPayload1`\t|\t|\n",
            "2023-02-15 14:51:24.267516\t|\t|\t|`774`\n",
            "2023-02-15 14:51:24.267758\t|\t|`5`\t|\n",
            "2023-02-15 14:51:24.274068\t|`214`\t|\t|\n",
            "2023-02-15 14:51:24.560606\t|`2023-02-15 14:51:24.451315 TestingPayload2`\t|\t|\n",
            "2023-02-15 14:51:25.263218\t|\t|\t|`774`\n",
            "2023-02-15 14:51:25.263491\t|\t|`5`\t|\n",
            "2023-02-15 14:51:25.278112\t|`214`\t|\t|\n",
            "2023-02-15 14:51:25.557687\t|`2023-02-15 14:51:25.452693 TestingPayload3`\t|\t|\n",
            "2023-02-15 14:51:26.265743\t|\t|\t|`774`\n",
            "2023-02-15 14:51:26.269980\t|\t|`5`\t|\n",
            "2023-02-15 14:51:26.273121\t|`214`\t|\t|\n",
            "2023-02-15 14:51:26.567618\t|`2023-02-15 14:51:26.454285 TestingPayload4`\t|\t|\n",
            "2023-02-15 14:51:27.266040\t|\t|\t|`774`\n",
            "2023-02-15 14:51:27.271234\t|\t|`5`\t|\n",
            "2023-02-15 14:51:27.271423\t|`214`\t|\t|\n",
            "2023-02-15 14:51:27.561906\t|`2023-02-15 14:51:27.456323 TestingPayloadDisconnect4`\t|\t|\n"
          ]
        },
        {
          "output_type": "execute_result",
          "data": {
            "text/plain": [
              "7"
            ]
          },
          "metadata": {},
          "execution_count": 49
        }
      ]
    }
  ]
}