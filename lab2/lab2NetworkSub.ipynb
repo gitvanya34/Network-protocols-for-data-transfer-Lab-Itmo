{
  "nbformat": 4,
  "nbformat_minor": 0,
  "metadata": {
    "colab": {
      "provenance": []
    },
    "kernelspec": {
      "name": "python3",
      "display_name": "Python 3"
    },
    "language_info": {
      "name": "python"
    }
  },
  "cells": [
    {
      "cell_type": "code",
      "execution_count": null,
      "metadata": {
        "colab": {
          "base_uri": "https://localhost:8080/"
        },
        "id": "aLfWkNbgetZE",
        "outputId": "fd5a072e-8de0-4679-92ab-5ce206df5437"
      },
      "outputs": [
        {
          "output_type": "stream",
          "name": "stdout",
          "text": [
            "Looking in indexes: https://pypi.org/simple, https://us-python.pkg.dev/colab-wheels/public/simple/\n",
            "Collecting paho-mqtt\n",
            "  Downloading paho-mqtt-1.6.1.tar.gz (99 kB)\n",
            "\u001b[2K     \u001b[90m━━━━━━━━━━━━━━━━━━━━━━━━━━━━━━━━━━━━━━━━\u001b[0m \u001b[32m99.4/99.4 KB\u001b[0m \u001b[31m3.7 MB/s\u001b[0m eta \u001b[36m0:00:00\u001b[0m\n",
            "\u001b[?25h  Preparing metadata (setup.py) ... \u001b[?25l\u001b[?25hdone\n",
            "Building wheels for collected packages: paho-mqtt\n",
            "  Building wheel for paho-mqtt (setup.py) ... \u001b[?25l\u001b[?25hdone\n",
            "  Created wheel for paho-mqtt: filename=paho_mqtt-1.6.1-py3-none-any.whl size=62132 sha256=be62f7d316f657f3ad49db2c4c00dc6a9e3cae968672e3366a8cea2f77b31c5f\n",
            "  Stored in directory: /root/.cache/pip/wheels/6a/48/01/c895c027e9b9367ec5470fbf371ee56e795a49ac6a19aa4c9f\n",
            "Successfully built paho-mqtt\n",
            "Installing collected packages: paho-mqtt\n",
            "Successfully installed paho-mqtt-1.6.1\n"
          ]
        }
      ],
      "source": [
        "!pip3 install paho-mqtt"
      ]
    },
    {
      "cell_type": "code",
      "source": [
        "from paho.mqtt import client as mqtt_client\n",
        "import random\n",
        "import time\n",
        "from datetime import datetime"
      ],
      "metadata": {
        "id": "hFlsN5Ace6lY"
      },
      "execution_count": 87,
      "outputs": []
    },
    {
      "cell_type": "code",
      "source": [
        "broker_url = \"broker.hivemq.com\"\n",
        "broker_port = 1883\n",
        "\n",
        "def on_message(client, userdata, message):\n",
        "  print(\"Message Recieved: \"+message.payload.decode())\n",
        "  if str(message.payload.decode()).find(\"TestingPayloadDisconnect\") !=-1:\n",
        "    client.disconnect()\n",
        "\n",
        "\n",
        "client = mqtt.Client()\n",
        "client.on_message = on_message\n",
        "client.connect(broker_url, broker_port)\n",
        "print(str(datetime.now()))\n",
        "client.subscribe(\"ITMO/Student3/Value1\", qos=2)\n",
        "\n",
        "client.loop_forever()\n",
        "client.disconnect"
      ],
      "metadata": {
        "colab": {
          "base_uri": "https://localhost:8080/"
        },
        "id": "BwMHSwRj502m",
        "outputId": "db434ed0-1c1d-47e4-db5a-56bd778ef740"
      },
      "execution_count": 101,
      "outputs": [
        {
          "output_type": "stream",
          "name": "stdout",
          "text": [
            "Connected to MQTT Broker!\n",
            "2023-02-14 15:28:21.048714\n",
            "Connected to MQTT Broker!\n",
            "Connected to MQTT Broker!\n",
            "Connected to MQTT Broker!\n",
            "Connected to MQTT Broker!\n",
            "Message Recieved: 2023-02-14 15:28:25.441806 TestingPayload0\n",
            "Connected to MQTT Broker!\n",
            "Message Recieved: 2023-02-14 15:28:26.443123 TestingPayload1\n",
            "Connected to MQTT Broker!\n",
            "Message Recieved: 2023-02-14 15:28:27.444589 TestingPayload2\n",
            "Connected to MQTT Broker!\n",
            "Message Recieved: 2023-02-14 15:28:28.446864 TestingPayload3\n",
            "Connected to MQTT Broker!\n",
            "Message Recieved: 2023-02-14 15:28:29.448441 TestingPayload4\n",
            "Connected to MQTT Broker!\n",
            "Message Recieved: 2023-02-14 15:28:30.450182 TestingPayloadDisconnect4\n"
          ]
        },
        {
          "output_type": "execute_result",
          "data": {
            "text/plain": [
              "<bound method Client.disconnect of <paho.mqtt.client.Client object at 0x7ff30948deb0>>"
            ]
          },
          "metadata": {},
          "execution_count": 101
        }
      ]
    }
  ]
}