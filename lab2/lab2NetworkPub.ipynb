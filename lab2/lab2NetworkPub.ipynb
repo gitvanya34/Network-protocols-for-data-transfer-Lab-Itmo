{
  "nbformat": 4,
  "nbformat_minor": 0,
  "metadata": {
    "colab": {
      "provenance": []
    },
    "kernelspec": {
      "name": "python3",
      "display_name": "Python 3"
    },
    "language_info": {
      "name": "python"
    }
  },
  "cells": [
    {
      "cell_type": "code",
      "source": [
        "!pip3 install paho-mqtt"
      ],
      "metadata": {
        "colab": {
          "base_uri": "https://localhost:8080/"
        },
        "id": "R4PKWzeyBX79",
        "outputId": "4bf36075-63e2-433f-fcf1-745e8bec2d46"
      },
      "execution_count": null,
      "outputs": [
        {
          "output_type": "stream",
          "name": "stdout",
          "text": [
            "Looking in indexes: https://pypi.org/simple, https://us-python.pkg.dev/colab-wheels/public/simple/\n",
            "Requirement already satisfied: paho-mqtt in /usr/local/lib/python3.8/dist-packages (1.6.1)\n"
          ]
        }
      ]
    },
    {
      "cell_type": "code",
      "execution_count": 27,
      "metadata": {
        "colab": {
          "base_uri": "https://localhost:8080/"
        },
        "id": "uVHjNfupA5fa",
        "outputId": "13f73328-7967-43cd-caa9-f398b8cee01c"
      },
      "outputs": [
        {
          "output_type": "stream",
          "name": "stdout",
          "text": [
            "2023-02-14 15:28:25.441925 Send payload\n",
            "2023-02-14 15:28:26.443373 Send payload\n",
            "2023-02-14 15:28:27.444853 Send payload\n",
            "2023-02-14 15:28:28.447162 Send payload\n",
            "2023-02-14 15:28:29.448723 Send payload\n",
            "2023-02-14 15:28:30.450537 Send payload Disconnect\n"
          ]
        }
      ],
      "source": [
        "import paho.mqtt.client as mqtt\n",
        "import time\n",
        "from datetime import datetime\n",
        "\n",
        "broker_url = \"broker.hivemq.com\"\n",
        "broker_port = 1883\n",
        "\n",
        "client = mqtt.Client()\n",
        "client.connect(broker_url, broker_port)\n",
        "\n",
        "for i in range(0,5):\n",
        "  strPayload = str(datetime.now())+\" TestingPayload\"+str(i)\n",
        "  client.publish(topic=\"ITMO/Student3/Value1\", payload=strPayload, qos=1, retain=False)\n",
        "  print(str(datetime.now())+\" Send payload\")\n",
        "  time.sleep(1)\n",
        "\n",
        "strPayloadDisconnect = str(datetime.now())+\" TestingPayloadDisconnect\"+str(i)\n",
        "client.publish(topic=\"ITMO/Student3/Value1\", payload=strPayloadDisconnect, qos=1, retain=False)\n",
        "print(str(datetime.now())+\" Send payload Disconnect\")"
      ]
    }
  ]
}