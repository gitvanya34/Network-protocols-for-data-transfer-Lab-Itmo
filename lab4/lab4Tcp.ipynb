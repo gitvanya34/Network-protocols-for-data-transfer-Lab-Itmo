{
  "nbformat": 4,
  "nbformat_minor": 0,
  "metadata": {
    "colab": {
      "provenance": [],
      "authorship_tag": "ABX9TyNwdNKC2ZpaLvMGs6Vnw7Kl",
      "include_colab_link": true
    },
    "kernelspec": {
      "name": "python3",
      "display_name": "Python 3"
    },
    "language_info": {
      "name": "python"
    }
  },
  "cells": [
    {
      "cell_type": "markdown",
      "metadata": {
        "id": "view-in-github",
        "colab_type": "text"
      },
      "source": [
        "<a href=\"https://colab.research.google.com/github/gitvanya34/Network-protocols-for-data-transfer-Lab-Itmo/blob/main/lab4/lab4Tcp.ipynb\" target=\"_parent\"><img src=\"https://colab.research.google.com/assets/colab-badge.svg\" alt=\"Open In Colab\"/></a>"
      ]
    },
    {
      "cell_type": "code",
      "execution_count": 14,
      "metadata": {
        "id": "qDKomy7cRZ0B",
        "colab": {
          "base_uri": "https://localhost:8080/"
        },
        "outputId": "501a74f8-2ce4-4bac-d428-bbe85fa34260"
      },
      "outputs": [
        {
          "output_type": "stream",
          "name": "stdout",
          "text": [
            "Looking in indexes: https://pypi.org/simple, https://us-python.pkg.dev/colab-wheels/public/simple/\n",
            "Requirement already satisfied: PrettyTable in /usr/local/lib/python3.8/dist-packages (3.6.0)\n",
            "Requirement already satisfied: wcwidth in /usr/local/lib/python3.8/dist-packages (from PrettyTable) (0.2.6)\n"
          ]
        }
      ],
      "source": [
        "!pip install PrettyTable"
      ]
    },
    {
      "cell_type": "code",
      "source": [
        "from datetime import datetime\n",
        "import socket\n",
        "import sys\n",
        "from prettytable import PrettyTable\n",
        "import time\n",
        "\n",
        "def parsePacket(packet, student):\n",
        "  s = str(packet).find(student)\n",
        "  if(s == -1): return f\"\\'{student}\\' Not in the package\"\n",
        "  return str(packet)[s:s+42]\n",
        "\n",
        "ip = '109.167.241.225'\n",
        "port = 6340\n",
        "\n",
        "conn = socket.socket()\n",
        "conn.connect((ip, port))\n",
        "conn.send(b\"\")\n",
        "\n",
        "th = ['DateTime','IP Address','Port','Packet№','Student№', 'ResponsePacketForStudent']\n",
        "td = []\n",
        "\n",
        "columns = len(th) \n",
        "table = PrettyTable(th)\n",
        "\n",
        "print(conn.recv(1024))\n",
        "print(f\"Full packet: [{conn.recv(1024)}]\")\n",
        "for i in range(0,10):\n",
        "    table.add_row([datetime.now(),ip,port,i,3, parsePacket(conn.recv(1024),'Student 3') ])\n",
        "    time.sleep(0.2)\n",
        "    \n",
        "\n",
        "print(table)\n",
        "conn.close()"
      ],
      "metadata": {
        "colab": {
          "base_uri": "https://localhost:8080/"
        },
        "id": "mfxlJ9ZoUoN5",
        "outputId": "bc65ebdf-a156-4282-f8e8-6b5990dcd6cc"
      },
      "execution_count": 81,
      "outputs": [
        {
          "output_type": "stream",
          "name": "stdout",
          "text": [
            "b'\\x00\\x00\\x043'\n",
            "Full packet: [b'Student 1 2023-02-24-21-30-47,216 0,777222 Student 2 2023-02-24-21-30-47,216 0,002845 Student 3 2023-02-24-21-30-47,216 0,308951 Student 4 2023-02-24-21-30-47,216 0,613347 Student 5 2023-02-24-21-30-47,216 0,575663 Student 6 2023-02-24-21-30-47,216 0,033731 Student 7 2023-02-24-21-30-47,216 0,573050 Student 8 2023-02-24-21-30-47,216 0,317914 Student 9 2023-02-24-21-30-47,216 0,132515 Student10 2023-02-24-21-30-47,216 0,963488 Student11 2023-02-24-21-30-47,216 0,323945 Student12 2023-02-24-21-30-47,216 0,210475 Student13 2023-02-24-21-30-47,216 0,857535 Student14 2023-02-24-21-30-47,216 0,215444 Student15 2023-02-24-21-30-47,216 0,944103 Student16 2023-02-24-21-30-47,216 0,280411 Student17 2023-02-24-21-30-47,216 0,319365 Student18 2023-02-24-21-30-47,216 0,156366 Student19 2023-02-24-21-30-47,216 0,333273 Student20 2023-02-24-21-30-47,216 0,033218 Student21 2023-02-24-21-30-47,216 0,171654 Student22 2023-02-24-21-30-47,216 0,706099 Student23 2023-02-24-21-30-47,216 0,077029 Student24 2023-02-24-21-30-47,216 0']\n",
            "+----------------------------+-----------------+------+---------+----------+--------------------------------------------+\n",
            "|          DateTime          |    IP Address   | Port | Packet№ | Student№ |          ResponsePacketForStudent          |\n",
            "+----------------------------+-----------------+------+---------+----------+--------------------------------------------+\n",
            "| 2023-02-24 18:30:48.378525 | 109.167.241.225 | 6340 |    0    |    3     | Student 3 2023-02-24-21-30-47,316 0,480443 |\n",
            "| 2023-02-24 18:30:48.578894 | 109.167.241.225 | 6340 |    1    |    3     | Student 3 2023-02-24-21-30-47,416 0,733832 |\n",
            "| 2023-02-24 18:30:48.779254 | 109.167.241.225 | 6340 |    2    |    3     | Student 3 2023-02-24-21-30-47,517 0,531523 |\n",
            "| 2023-02-24 18:30:48.979603 | 109.167.241.225 | 6340 |    3    |    3     | Student 3 2023-02-24-21-30-47,616 0,057157 |\n",
            "| 2023-02-24 18:30:49.179978 | 109.167.241.225 | 6340 |    4    |    3     | Student 3 2023-02-24-21-30-47,718 0,894633 |\n",
            "| 2023-02-24 18:30:49.380356 | 109.167.241.225 | 6340 |    5    |    3     | Student 3 2023-02-24-21-30-47,818 0,789615 |\n",
            "| 2023-02-24 18:30:49.580697 | 109.167.241.225 | 6340 |    6    |    3     | Student 3 2023-02-24-21-30-47,920 0,484580 |\n",
            "| 2023-02-24 18:30:49.781130 | 109.167.241.225 | 6340 |    7    |    3     | Student 3 2023-02-24-21-30-48,020 0,121080 |\n",
            "| 2023-02-24 18:30:49.981546 | 109.167.241.225 | 6340 |    8    |    3     | Student 3 2023-02-24-21-30-48,121 0,839947 |\n",
            "| 2023-02-24 18:30:50.181887 | 109.167.241.225 | 6340 |    9    |    3     | Student 3 2023-02-24-21-30-48,221 0,876347 |\n",
            "+----------------------------+-----------------+------+---------+----------+--------------------------------------------+\n"
          ]
        }
      ]
    }
  ]
}