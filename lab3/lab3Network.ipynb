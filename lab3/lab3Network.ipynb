{
  "nbformat": 4,
  "nbformat_minor": 0,
  "metadata": {
    "colab": {
      "provenance": [],
      "authorship_tag": "ABX9TyOFi6BJP2Csa4on+ZO58+ue",
      "include_colab_link": true
    },
    "kernelspec": {
      "name": "python3",
      "display_name": "Python 3"
    },
    "language_info": {
      "name": "python"
    }
  },
  "cells": [
    {
      "cell_type": "markdown",
      "metadata": {
        "id": "view-in-github",
        "colab_type": "text"
      },
      "source": [
        "<a href=\"https://colab.research.google.com/github/gitvanya34/Network-protocols-for-data-transfer-Lab-Itmo/blob/main/lab3/lab3Network.ipynb\" target=\"_parent\"><img src=\"https://colab.research.google.com/assets/colab-badge.svg\" alt=\"Open In Colab\"/></a>"
      ]
    },
    {
      "cell_type": "code",
      "execution_count": 78,
      "metadata": {
        "colab": {
          "base_uri": "https://localhost:8080/"
        },
        "id": "z-jGw-Szepm1",
        "outputId": "cbbf1f9c-0eda-47b2-8116-2518d2008a93"
      },
      "outputs": [
        {
          "output_type": "stream",
          "name": "stdout",
          "text": [
            "Looking in indexes: https://pypi.org/simple, https://us-python.pkg.dev/colab-wheels/public/simple/\n",
            "Requirement already satisfied: pyModbusTCP in /usr/local/lib/python3.8/dist-packages (0.2.0)\n",
            "Looking in indexes: https://pypi.org/simple, https://us-python.pkg.dev/colab-wheels/public/simple/\n",
            "Requirement already satisfied: pymodbus in /usr/local/lib/python3.8/dist-packages (3.1.3)\n"
          ]
        }
      ],
      "source": [
        "!pip install pyModbusTCP\n",
        "!pip install pymodbus"
      ]
    },
    {
      "cell_type": "code",
      "source": [
        "from pyModbusTCP.client import ModbusClient\n",
        "from datetime import datetime\n",
        "\n",
        "def decodeToAscii(arr):\n",
        "  decodeArr = []\n",
        "  message = \"\"\n",
        "  \n",
        "  for i in arr:\n",
        "    decodeArr.append((bin(i)).replace(\"b\",\"\")) \n",
        "\n",
        "  print(f\"BinResponse:{decodeArr}\")\n",
        "\n",
        "  for i in decodeArr[2:]:\n",
        "    message += chr(int(i[0:8],2)) + chr(int(i[8:16],2))\n",
        "\n",
        "  return message"
      ],
      "metadata": {
        "id": "Kyo3tQIHugFp"
      },
      "execution_count": 89,
      "outputs": []
    },
    {
      "cell_type": "code",
      "source": [
        "c = ModbusClient(host=\"109.167.241.225\", port=502, unit_id=1, auto_open=True)\n",
        "\n",
        "regs = c.read_holding_registers(300, 7)\n",
        "if regs:\n",
        "  print(f\"Time: {datetime.now()}\")\n",
        "  print(f\"Response: {regs}\")\n",
        "  print(f\"Message: {decodeToAscii(regs)}\")\n",
        "  print(f\"Number1: {regs[0]}\")\n",
        "  print(f\"Number2: {regs[1]}\")\n",
        "else:\n",
        "  print(\"ERROR READ\")"
      ],
      "metadata": {
        "colab": {
          "base_uri": "https://localhost:8080/"
        },
        "id": "W3m5ajga9Gsm",
        "outputId": "d0c3de3b-6f0d-4ded-f516-20b7491b892b"
      },
      "execution_count": 90,
      "outputs": [
        {
          "output_type": "stream",
          "name": "stdout",
          "text": [
            "Time: 2023-02-18 00:50:26.304646\n",
            "Response: [30250, 35886, 17220, 17734, 18248, 18762, 19276]\n",
            "BinResponse:['0111011000101010', '01000110000101110', '0100001101000100', '0100010101000110', '0100011101001000', '0100100101001010', '0100101101001100']\n",
            "Message: CDEFGHIJKL\n",
            "Number1: 30250\n",
            "Number2: 35886\n"
          ]
        }
      ]
    }
  ]
}